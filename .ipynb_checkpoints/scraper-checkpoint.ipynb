{
 "cells": [
  {
   "cell_type": "markdown",
   "id": "written-heaven",
   "metadata": {},
   "source": [
    "# journalists scraper"
   ]
  },
  {
   "cell_type": "markdown",
   "id": "royal-reynolds",
   "metadata": {},
   "source": [
    "## Load Libraries"
   ]
  },
  {
   "cell_type": "code",
   "execution_count": 52,
   "id": "eligible-scout",
   "metadata": {},
   "outputs": [],
   "source": [
    "# Selenium\n",
    "import selenium\n",
    "from selenium import webdriver\n",
    "from selenium.webdriver.chrome.options import Options\n",
    "from selenium.webdriver.support import expected_conditions as EC\n",
    "from selenium.webdriver.support.ui import WebDriverWait\n",
    "from selenium.webdriver.common.by import By\n",
    "from selenium.webdriver.common.keys import Keys\n",
    "# Reqeusts\n",
    "import requests\n",
    "# Other tools\n",
    "from bs4 import BeautifulSoup\n",
    "from datetime import datetime\n",
    "from datetime import timedelta\n",
    "from datetime import date\n",
    "import csv\n",
    "import pandas as pd\n",
    "import time\n",
    "import json\n",
    "import fnmatch\n",
    "import os\n",
    "import tabula\n",
    "from tabula.io import read_pdf\n",
    "import urllib.request\n",
    "from bs4 import BeautifulSoup\n",
    "import re\n",
    "from geopy.geocoders import Nominatim\n",
    "pd.set_option('display.max_columns', None)\n",
    "pd.set_option('display.max_rows', None)"
   ]
  },
  {
   "cell_type": "markdown",
   "id": "through-investor",
   "metadata": {},
   "source": [
    "## Functions"
   ]
  },
  {
   "cell_type": "code",
   "execution_count": 2,
   "id": "mounted-tamil",
   "metadata": {},
   "outputs": [],
   "source": [
    "def requests_get_item(url, item):\n",
    "    headers = {\"User-Agent\": \"Mozilla/5.0 (Windows NT 10.0; Win64; x64) AppleWebKit/537.36 (KHTML, like Gecko) Chrome/70.0.3538.77 Safari/537.36\"}\n",
    "    if item == \"html\":       \n",
    "        page = requests.get(url, headers = headers)\n",
    "        soup = BeautifulSoup(page.text, 'html.parser')\n",
    "        return(soup)\n",
    "    \n",
    "    elif item == \"pdf\":\n",
    "        page = requests.get(url, headers = headers, stream=True)\n",
    "        return(page)\n",
    "    else:\n",
    "        print(\"Valid Item Not Selected\")\n",
    "\n",
    "def download_pdfs(ls_pdf_urls, download_path, file_name):\n",
    "    counter = 0 \n",
    "    for pdf_url in ls_pdf_urls:\n",
    "        counter = counter +1\n",
    "        g = requests_get_item(pdf_url, \"pdf\")\n",
    "        with open(f'{download_path}{file_name}_{counter}.pdf', 'wb') as sav:\n",
    "            for chunk in g.iter_content(chunk_size=1000000):\n",
    "                sav.write(chunk)\n",
    "        print(f\"download number: {counter}\")\n",
    "                \n",
    "                \n",
    "def convert_pdf_to_csv(pdf_directory, csv_directory):\n",
    "    directory = fr'{pdf_directory}'\n",
    "    directory_output = fr'{csv_directory}'\n",
    "    count = 0\n",
    "    for file in os.listdir(directory):        \n",
    "        if file.endswith(\".pdf\"):\n",
    "            count = count + 1 \n",
    "            print(f'{directory}{file}: Conversion {count}')\n",
    "            tabula.convert_into(f'{directory}{file}', f'{directory_output}{count}.csv', output_format=\"csv\", pages='all')\n",
    "    \n",
    "    \n",
    "    \n",
    "    "
   ]
  },
  {
   "cell_type": "markdown",
   "id": "dense-uzbekistan",
   "metadata": {},
   "source": [
    "## Functions Using Selenium"
   ]
  },
  {
   "cell_type": "code",
   "execution_count": null,
   "id": "direct-foster",
   "metadata": {},
   "outputs": [],
   "source": [
    "# Define important paths\n",
    "executable_path = \"/chromedriver\"\n",
    "download_path = f\"test\"\n",
    "\n",
    "# Define Routes (usually in xpaths)\n",
    "\n",
    "def browser_instance(executable_path, headless, download_path):\n",
    "    \n",
    "    \n",
    "    chrome_options =  Options()\n",
    "    if headless:\n",
    "        chrome_options.add_argument(\"--headless\")   \n",
    "    chrome_options.add_experimental_option(\"prefs\", {\n",
    "            \"download.default_directory\": download_path})    \n",
    "    driver = webdriver.Chrome(executable_path=executable_path, options = chrome_options)\n",
    "    return driver  \n",
    "\n",
    "def signIn(driver, url, signin_field, username_field, password_field):  \n",
    "    driver.get(url)\n",
    "    sign_in = driver.find_element_by_xpath(signin_field)\n",
    "    sign_in.click()\n",
    "    email_field = driver.find_element_by_xpath(username_field)\n",
    "    password_field = driver.find_element_by_xpath(password_field)\n",
    "    email_field.send_keys(USERNAME)\n",
    "    password_field.send_keys(PASSWORD + Keys.RETURN)\n"
   ]
  },
  {
   "cell_type": "code",
   "execution_count": null,
   "id": "immediate-christian",
   "metadata": {},
   "outputs": [],
   "source": [
    " driver = webdriver.Chrome(\"/Users/aadittambe/Documents/UMD/code_practice/news_app/test-stuff/chromedriver\")\n",
    "# driver.get(\"https://cpj.org/data/killed/?status=Killed&motiveConfirmed%5B%5D=Confirmed&type%5B%5D=Journalist&cc_fips%5B%5D=BG&cc_fips%5B%5D=BT&cc_fips%5B%5D=IN&cc_fips%5B%5D=MV&cc_fips%5B%5D=NP&cc_fips%5B%5D=PK&cc_fips%5B%5D=CE&start_year=1992&end_year=2021&group_by=year\")"
   ]
  },
  {
   "cell_type": "code",
   "execution_count": null,
   "id": "rapid-compiler",
   "metadata": {},
   "outputs": [],
   "source": [
    "def getter():\n",
    "    counter = 0\n",
    "    results = []\n",
    "    driver.get(\"https://cpj.org/data/killed/?status=Killed&motiveConfirmed%5B%5D=Confirmed&type%5B%5D=Journalist&cc_fips%5B%5D=BG&cc_fips%5B%5D=BT&cc_fips%5B%5D=IN&cc_fips%5B%5D=MV&cc_fips%5B%5D=NP&cc_fips%5B%5D=PK&cc_fips%5B%5D=CE&start_year=1992&end_year=2021&group_by=year\")\n",
    "    while counter < 1:\n",
    "        next_button = WebDriverWait(driver, 10).until(EC.element_to_be_clickable((By.XPATH, '/html/body/div[1]/div/div/div[2]/div/div[1]/div/nav/ul/li[8]/a')))\n",
    "        table_finder = WebDriverWait(driver, 10).until(EC.element_to_be_clickable((By.XPATH, '/html/body/div[1]/div/div/div[2]/div/div[1]/div/table/tbody')))\n",
    "        html = driver.page_source\n",
    "        soup = BeautifulSoup(html, 'html.parser')\n",
    "        # print(soup.prettify())\n",
    "        table = soup.find(class_=\"table\")\n",
    "        rows = table.find_all('tr')\n",
    "        for row in rows[1:]:\n",
    "          cells = row.find_all('td')\n",
    "          results.append([cell.text for cell in cells])\n",
    "    #       print(results)\n",
    "        \n",
    "        next_button.click()\n",
    "        print('debug')\n",
    "        counter = counter + 1\n",
    "        print(counter)\n",
    "#         return(results)\n",
    "\n",
    "\n",
    "        with open('results.csv','w') as output_file:\n",
    "            csvfile = csv.writer(output_file)\n",
    "            csvfile.writerow(['name', 'organization','date', 'location', 'death','type','na'])\n",
    "            csvfile.writerows(results)\n",
    "getter()"
   ]
  },
  {
   "cell_type": "code",
   "execution_count": null,
   "id": "western-sympathy",
   "metadata": {},
   "outputs": [],
   "source": [
    "# don't change\n",
    "journalists_raw = pd.read_csv('journalists_killed.csv')\n",
    "journalists_raw"
   ]
  },
  {
   "cell_type": "code",
   "execution_count": null,
   "id": "closing-expert",
   "metadata": {
    "scrolled": true,
    "tags": []
   },
   "outputs": [],
   "source": [
    "# don't change\n",
    "# def get_desc():\n",
    "names_list = []\n",
    "url_list = []\n",
    "desc_list = []\n",
    "base_url = \"https://cpj.org/data/people/\"\n",
    "for index, row in journalists_raw.iterrows():\n",
    "    names_list.append(row[\"fullName\"])\n",
    "for name in names_list:\n",
    "    name = name.replace(' ', '-')\n",
    "    name_w_url = base_url + name\n",
    "    url_list.append(name_w_url)\n",
    "for link in url_list:\n",
    "    url = link\n",
    "    page = requests.get(url)\n",
    "    soup = requests_get_item(url, \"html\")\n",
    "    desc_text = soup.find(\"article\", class_=\"entry-content\")\n",
    "    desc_list.append(desc_text.text)\n",
    "journalists_with_desc = journalists_raw\n",
    "journalists_with_desc['desc'] = desc_list\n",
    "journalists_with_desc\n",
    "# get_desc()x"
   ]
  },
  {
   "cell_type": "code",
   "execution_count": null,
   "id": "coupled-flood",
   "metadata": {},
   "outputs": [],
   "source": [
    "# this is a step to just make sure\n",
    "journalists_with_desc.to_csv('journalists_with_desc.csv')"
   ]
  },
  {
   "cell_type": "code",
   "execution_count": null,
   "id": "every-accessory",
   "metadata": {},
   "outputs": [],
   "source": [
    "# journalists with desc and location, country\n",
    "\n",
    "journalists_city_country = journalists_with_desc\n",
    "journalists_city_country[\"city_country\"] = journalists_city_country[\"location\"] + \", \"+ journalists_city_country[\"country\"]\n",
    "\n",
    "journalists_city_country"
   ]
  },
  {
   "cell_type": "code",
   "execution_count": null,
   "id": "encouraging-harris",
   "metadata": {},
   "outputs": [],
   "source": [
    "# clean that column using string detect\n",
    "journalists_city_country_clean = journalists_city_country\n",
    "journalists_city_country_clean['city_country'] = journalists_city_country_clean['city_country'].str.replace('an area outside ','')\n",
    "journalists_city_country_clean['city_country'] = journalists_city_country_clean['city_country'].str.replace('an area near ','')\n",
    "journalists_city_country_clean['city_country'] = journalists_city_country_clean['city_country'].str.replace('Malé','Male')\n",
    "\n",
    "\n",
    "# journalists_city_country_clean.sort_values(by = [\"city_country\"], ascending=True)\n",
    "journalists_city_country_clean"
   ]
  },
  {
   "cell_type": "code",
   "execution_count": null,
   "id": "subjective-marker",
   "metadata": {},
   "outputs": [],
   "source": [
    "jourcoords = journalists_city_country_clean #.to_csv(\"clean_journalists_deaths.csv\")"
   ]
  },
  {
   "cell_type": "code",
   "execution_count": null,
   "id": "marine-gender",
   "metadata": {},
   "outputs": [],
   "source": [
    "jourcoords = journalists_city_country_clean"
   ]
  },
  {
   "cell_type": "code",
   "execution_count": null,
   "id": "arranged-illustration",
   "metadata": {},
   "outputs": [],
   "source": [
    "place_list = []\n",
    "for place in jourcoords[\"city_country\"]:\n",
    "    place_list.append(place)\n",
    "    \n",
    "lat_list = []\n",
    "long_list = []\n",
    "for item in place_list:\n",
    "#     while True:\n",
    "    try: \n",
    "        geolocator = Nominatim(user_agent=\"Aadit\")\n",
    "        location = geolocator.geocode(item)\n",
    "        lat_list.append(location.latitude)\n",
    "        lon_list.append(location.longitude)\n",
    "        print(lon_list)\n",
    "    except (RuntimeError, TypeError, NameError, AttributeError):\n",
    "        lat_list.append('pass')\n",
    "        lon_list.append('pass')"
   ]
  },
  {
   "cell_type": "code",
   "execution_count": null,
   "id": "growing-perspective",
   "metadata": {},
   "outputs": [],
   "source": [
    "jourcoords[\"lat\"] = lat_list\n",
    "jourcoords['lon'] = lon_list\n",
    "jourcoords"
   ]
  },
  {
   "cell_type": "code",
   "execution_count": null,
   "id": "inclusive-editor",
   "metadata": {},
   "outputs": [],
   "source": [
    "jourcoords.to_csv('final_file.csv')"
   ]
  },
  {
   "cell_type": "code",
   "execution_count": 149,
   "id": "monetary-evidence",
   "metadata": {},
   "outputs": [],
   "source": [
    "# clean the descs\n",
    "file = pd.read_csv('final_file.csv')\n",
    "file[\"desc_clean\"] = file[\"desc\"].str.replace('\\n','')\n",
    "file[\"desc_clean\"] = file[\"desc_clean\"].str.replace('Share this:TwitterFacebookWhatsAppLinkedInEmailTelegram','')\n",
    "file\n",
    "\n",
    "file.to_csv('final_clean.csv')"
   ]
  },
  {
   "cell_type": "code",
   "execution_count": null,
   "id": "western-helena",
   "metadata": {},
   "outputs": [],
   "source": []
  },
  {
   "cell_type": "code",
   "execution_count": 16,
   "id": "negative-return",
   "metadata": {},
   "outputs": [
    {
     "data": {
      "text/plain": [
       "<article class=\"entry-content post-39984 people type-people status-publish hentry\" id=\"post-39984\">\n",
       "<p>Abadullah Hananzai, a video journalist with U.S.-funded RFE/RL’s Radio Azadi, was killed in a double suicide bomb attack on April 30, 2018, in Kabul, Afghanistan, that left over 25 dead, among them at least nine journalists including Hananzai, <a href=\"https://www.rferl.org/a/rfe-rl-journalists-among-at-least-25-killed-in-kabul-suicide-bombings/29199926.html\">RFE/RL reported</a>. </p>\n",
       "<p>Hananzai was killed in the second blast, in which the attacker disguised himself as a media worker and detonated his explosives in a group of reporters, <a href=\"https://cpj.org/2018/04/in-afghanistan-at-least-10-journalists-killed-in-o.php\">CPJ documented</a>. </p>\n",
       "<p>Kabul police <a href=\"https://cpj.org/2018/04/in-afghanistan-at-least-10-journalists-killed-in-o.php\">said</a> the bomber deliberately targeted the press.</p>\n",
       "<p>The extremist group Islamic State issued an online statement the same day that claimed responsibility for the attacks, which also injured at least 45 people, according to The <a href=\"https://www.apnews.com/d80de03712f3400ab31b5d28ef3ec3ab/Double-Kabul-suicide-bombing-kills-25,-including-journalists\">Associated Press</a>.</p>\n",
       "<p>Hananzai, 26, had recently reported on <a href=\"https://pa.azadiradio.com/a/28939784.html\">drug addiction</a> in Afghanistan and the Interior Ministry’s attempts to crackdown on <a href=\"https://pa.azadiradio.com/a/29116886.html\">international narcotics trafficking</a> out of the country, according to RFE/RL. </p>\n",
       "<p>Hananzai was about to celebrate his first wedding anniversary, RFE/RL reported. His last public <a href=\"https://www.facebook.com/photo.php?fbid=1647051435416316&amp;set=a.165754730212668.35363.100003344251564&amp;type=3&amp;theater\">Facebook post</a> on April 25, 2018, was a tribute to his former colleague <a href=\"https://cpj.org/2018/04/in-afghanistan-kabul-news-tv-journalist-shot-dead-.php\">Abdul Manan Arghand</a>, a journalist who had been shot dead by unknown gunmen the previous week. </p>\n",
       "<div class=\"social-share hidden-md hidden-lg\">\n",
       "<div class=\"sharedaddy sd-sharing-enabled\"><div class=\"robots-nocontent sd-block sd-social sd-social-icon-text sd-sharing\"><h3 class=\"sd-title\">Share this:</h3><div class=\"sd-content\"><ul><li class=\"share-twitter\"><a class=\"share-twitter sd-button share-icon\" data-shared=\"sharing-twitter-39984\" href=\"https://cpj.org/data/people/abadullah-hananzai/?share=twitter\" rel=\"nofollow noopener noreferrer\" target=\"_blank\" title=\"Click to share on Twitter\"><span>Twitter</span></a></li><li class=\"share-facebook\"><a class=\"share-facebook sd-button share-icon\" data-shared=\"sharing-facebook-39984\" href=\"https://cpj.org/data/people/abadullah-hananzai/?share=facebook\" rel=\"nofollow noopener noreferrer\" target=\"_blank\" title=\"Click to share on Facebook\"><span>Facebook</span></a></li><li class=\"share-jetpack-whatsapp\"><a class=\"share-jetpack-whatsapp sd-button share-icon\" data-shared=\"\" href=\"https://cpj.org/data/people/abadullah-hananzai/?share=jetpack-whatsapp\" rel=\"nofollow noopener noreferrer\" target=\"_blank\" title=\"Click to share on WhatsApp\"><span>WhatsApp</span></a></li><li class=\"share-linkedin\"><a class=\"share-linkedin sd-button share-icon\" data-shared=\"sharing-linkedin-39984\" href=\"https://cpj.org/data/people/abadullah-hananzai/?share=linkedin\" rel=\"nofollow noopener noreferrer\" target=\"_blank\" title=\"Click to share on LinkedIn\"><span>LinkedIn</span></a></li><li class=\"share-email\"><a class=\"share-email sd-button share-icon\" data-shared=\"\" href=\"https://cpj.org/data/people/abadullah-hananzai/?share=email\" rel=\"nofollow noopener noreferrer\" target=\"_blank\" title=\"Click to email this to a friend\"><span>Email</span></a></li><li class=\"share-telegram\"><a class=\"share-telegram sd-button share-icon\" data-shared=\"\" href=\"https://cpj.org/data/people/abadullah-hananzai/?share=telegram\" rel=\"nofollow noopener noreferrer\" target=\"_blank\" title=\"Click to share on Telegram\"><span>Telegram</span></a></li><li class=\"share-end\"></li></ul></div></div></div> </div>\n",
       "</article>"
      ]
     },
     "execution_count": 16,
     "metadata": {},
     "output_type": "execute_result"
    }
   ],
   "source": [
    "# # don't change\n",
    "# # def get_desc():\n",
    "# names_list = []\n",
    "# url_list = []\n",
    "# desc_list = []\n",
    "# base_url = \"https://cpj.org/data/people/\"\n",
    "# for index, row in journalists_raw.iterrows():\n",
    "#     names_list.append(row[\"fullName\"])\n",
    "# for name in names_list:\n",
    "#     name = name.replace(' ', '-')\n",
    "#     name_w_url = base_url + name\n",
    "#     url_list.append(name_w_url)\n",
    "# for link in url_list:\n",
    "url = \"https://cpj.org/data/people/abadullah-hananzai/\"\n",
    "page = requests.get(url)\n",
    "soup = requests_get_item(url, \"html\")\n",
    "desc_text = soup.find(\"article\", class_=\"entry-content\")\n",
    "x = desc_text\n",
    "# x.replace('\\n','___')\n",
    "x"
   ]
  },
  {
   "cell_type": "code",
   "execution_count": 103,
   "id": "electronic-bubble",
   "metadata": {},
   "outputs": [
    {
     "data": {
      "text/plain": [
       "'Abadullah Hananzai, a video journalist with U.S.-funded RFE/RL’s Radio Azadi, was killed in a double suicide bomb attack on April 30, 2018, in Kabul, Afghanistan, that left over 25 dead, among them at least nine journalists including Hananzai, RFE/RL reported. <br> Hananzai was killed in the second blast, in which the attacker disguised himself as a media worker and detonated his explosives in a group of reporters, CPJ documented. <br> Kabul police\\xa0said\\xa0the bomber deliberately targeted the press.<br> The extremist group Islamic State issued an online statement the same day that claimed responsibility for the attacks, which also injured at least 45 people, according to The\\xa0Associated Press.<br> Hananzai, 26, had recently reported on drug addiction in Afghanistan and the Interior Ministry’s attempts to crackdown on international narcotics trafficking out of the country, according to RFE/RL. <br> Hananzai was about to celebrate his first wedding anniversary, RFE/RL reported. His last public Facebook post on April 25, 2018, was a tribute to his former colleague Abdul Manan Arghand, a journalist who had been shot dead by unknown gunmen the previous week. '"
      ]
     },
     "execution_count": 103,
     "metadata": {},
     "output_type": "execute_result"
    }
   ],
   "source": [
    "# importing modules\n",
    "\n",
    "my_list = []\n",
    "# providing url\n",
    "end = 10\n",
    "start = 1\n",
    "\n",
    "url = \"https://cpj.org/data/people/abadullah-hananzai/\"\n",
    "\n",
    "# opening the url for reading\n",
    "html = urllib.request.urlopen(url)\n",
    "\n",
    "# parsing the html file\n",
    "htmlParse = BeautifulSoup(html, 'html.parser')\n",
    "\n",
    "# getting all the paragraphs\n",
    "for para in htmlParse.find_all(\"p\"):\n",
    "    para = para.get_text()\n",
    "#     print(para)\n",
    "    x = para.replace('Our EIN is 13-3081500.', '')\n",
    "    x = x.replace('Committee to Protect Journalists', '')\n",
    "    x = x.replace('P.O. Box 2675', '')\n",
    "    x = x.replace('New York, NY 10108', '')\n",
    "    x = x.replace('Tel 212-465-1004', '')\n",
    "    x = x.replace('Fax 212-465-9568', '')\n",
    "    x = x.replace('Except where noted, text on this website is licensed under a Creative Commons Attribution-NonCommercial-NoDerivatives 4.0 International License.', '')\n",
    "    x = x.replace('Images and other media are not covered by the Creative Commons license. For more information about permissions, see our FAQs.', '')\n",
    "    x = x.replace('info@cpj.org', '')\n",
    "    x = x.replace('CPJ is a 501(c)3 non-profit.', '')\n",
    "    x = x.rstrip(\"\\t\")\n",
    "#     print(x)\n",
    "    y = x.split('\\n')\n",
    "    for graf in y:\n",
    "        my_list.append(graf)\n",
    "# print(my_list[0])\n",
    "res = my_list[: len(my_list) - 17]\n",
    "# print(res)\n",
    "popped_element = res.pop(0)\n",
    "# print(res)\n",
    "final_desc_clean = '<br> '.join(res)\n",
    "final_desc_clean"
   ]
  },
  {
   "cell_type": "code",
   "execution_count": null,
   "id": "generous-power",
   "metadata": {},
   "outputs": [],
   "source": [
    "x[\"test\"] = x[\"desc_clean\"].str.strip()\n",
    "\n",
    "# x[\"test\"] = x[\"test\"].str.replace('\\n','')\n",
    "for i in x[\"test\"]:\n",
    "    print(i)\n",
    "    print('--')"
   ]
  },
  {
   "cell_type": "code",
   "execution_count": null,
   "id": "color-offer",
   "metadata": {},
   "outputs": [],
   "source": []
  },
  {
   "cell_type": "code",
   "execution_count": null,
   "id": "appointed-commitment",
   "metadata": {},
   "outputs": [],
   "source": []
  }
 ],
 "metadata": {
  "kernelspec": {
   "display_name": "Python 3",
   "language": "python",
   "name": "python3"
  },
  "language_info": {
   "codemirror_mode": {
    "name": "ipython",
    "version": 3
   },
   "file_extension": ".py",
   "mimetype": "text/x-python",
   "name": "python",
   "nbconvert_exporter": "python",
   "pygments_lexer": "ipython3",
   "version": "3.9.7"
  }
 },
 "nbformat": 4,
 "nbformat_minor": 5
}
